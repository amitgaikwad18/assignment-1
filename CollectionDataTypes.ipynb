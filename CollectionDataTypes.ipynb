{
 "cells": [
  {
   "cell_type": "markdown",
   "id": "3de31082-0ae6-4ee3-98ed-d5ef022d8253",
   "metadata": {},
   "source": [
    "# Tuples"
   ]
  },
  {
   "cell_type": "code",
   "execution_count": 25,
   "id": "f650cfcc-ec67-477c-9c0b-cfb4413ec562",
   "metadata": {},
   "outputs": [
    {
     "name": "stdout",
     "output_type": "stream",
     "text": [
      "(1, 3.14, 'Galleleo', False)\n",
      "('Mars', 'Earth', 'Kepler 31', 'Jupiter', 'Saturn')\n"
     ]
    }
   ],
   "source": [
    "mixed_tuple_1 = (1,3.14,\"Galleleo\",False)\n",
    "plnt_typle_2 = (\"Mars\",\"Earth\",\"Kepler 31\",\"Jupiter\",\"Saturn\")\n",
    "\n",
    "print(mixed_tuple_1)\n",
    "print(plnt_typle_2)"
   ]
  },
  {
   "cell_type": "code",
   "execution_count": 26,
   "id": "11bcc61f-6cc4-46aa-85fd-c8ac8ce8051b",
   "metadata": {},
   "outputs": [
    {
     "data": {
      "text/plain": [
       "tuple"
      ]
     },
     "execution_count": 26,
     "metadata": {},
     "output_type": "execute_result"
    }
   ],
   "source": [
    "type(mixed_tuple_1)\n",
    "type(plnt_typle_2)"
   ]
  },
  {
   "cell_type": "markdown",
   "id": "1f911aaa-d33c-4058-8922-26cb33c9cf19",
   "metadata": {},
   "source": [
    "# Lists"
   ]
  },
  {
   "cell_type": "code",
   "execution_count": 17,
   "id": "91101b56-9782-41b7-9c3d-5866eb720b08",
   "metadata": {},
   "outputs": [
    {
     "name": "stdout",
     "output_type": "stream",
     "text": [
      "[2.0, 10.0, 1111.0]\n",
      "['Newton', 22.7, 8.021, True]\n"
     ]
    }
   ],
   "source": [
    "mixed_list_1 = [\"Newton\",22.7,8.021,True]\n",
    "flt_list_2 = [float(2),float(10),float(1111)]\n",
    "\n",
    "print(flt_list_2)\n",
    "print(mixed_list_1)"
   ]
  },
  {
   "cell_type": "code",
   "execution_count": 28,
   "id": "2c11c8ff-32df-4cd0-b935-c4501dc536d9",
   "metadata": {},
   "outputs": [
    {
     "name": "stdout",
     "output_type": "stream",
     "text": [
      "True\n"
     ]
    }
   ],
   "source": [
    "# Get the last item in the list\n",
    "print(mixed_list_1[-1])"
   ]
  },
  {
   "cell_type": "code",
   "execution_count": 29,
   "id": "45f848d7-80cb-4b79-8654-b030ed6452c9",
   "metadata": {},
   "outputs": [
    {
     "name": "stdout",
     "output_type": "stream",
     "text": [
      "Previous value of an item at index 1 =  45.0\n",
      "New Value of an item at index 1 =  45.0\n"
     ]
    }
   ],
   "source": [
    "#upload an item in the list\n",
    "\n",
    "print(\"Previous value of an item at index 1 = \",flt_list[1])\n",
    "flt_list_2[1] = float(45)\n",
    "print(\"New Value of an item at index 1 = \",flt_list[1])"
   ]
  },
  {
   "cell_type": "markdown",
   "id": "2c82cde3-48d9-4b31-82bf-ffafe1c839ef",
   "metadata": {},
   "source": [
    "# Sets"
   ]
  },
  {
   "cell_type": "code",
   "execution_count": 30,
   "id": "107a4949-28b5-466f-9dc6-3f742d5716fb",
   "metadata": {},
   "outputs": [
    {
     "name": "stdout",
     "output_type": "stream",
     "text": [
      "{False, True}\n"
     ]
    }
   ],
   "source": [
    "mixed_set_1 = {89.90,False,\"2n1n1n2n12\",98588}\n",
    "bool_set_2 = {True, False, True, True, False}\n",
    "\n",
    "print(bool_set_2)"
   ]
  },
  {
   "cell_type": "code",
   "execution_count": 31,
   "id": "c5edc328-8bee-4c18-adc4-652db0a66295",
   "metadata": {},
   "outputs": [
    {
     "name": "stdout",
     "output_type": "stream",
     "text": [
      "set()\n"
     ]
    }
   ],
   "source": [
    "# Clear the set\n",
    "\n",
    "bool_set_2.clear()\n",
    "\n",
    "print(bool_set_2)"
   ]
  },
  {
   "cell_type": "markdown",
   "id": "a2ddfbe5-f6a1-4d8d-b435-3dc45eca9c7f",
   "metadata": {},
   "source": [
    "# Dictionaries"
   ]
  },
  {
   "cell_type": "code",
   "execution_count": 40,
   "id": "a9b0af2a-865b-4eb2-bff2-edd0ad8577bb",
   "metadata": {},
   "outputs": [
    {
     "name": "stdout",
     "output_type": "stream",
     "text": [
      "{'Student Name': 'Amit Gaikwad', 'Email': 'amitgaikwad85@gmail.com', 'Contact No.': 8879231430, 'Location': 'Mumbai'}\n",
      "{'City': 'Mumbai', 'Temparature': 32.6, 'Date': '18/03/2023', 'Time': '17:50'}\n"
     ]
    }
   ],
   "source": [
    "student_dictionary_1 = {\"Student Name\": \"Amit Gaikwad\",\n",
    "            \"Email\":\"amitgaikwad85@gmail.com\",\n",
    "            \"Contact No.\": 8879231430,\n",
    "           \"Location\": \"Mumbai\"}\n",
    "\n",
    "temperature_dictionary_2 = {\n",
    "    \"City\": \"Mumbai\",\n",
    "    \"Temparature\": 32.6,\n",
    "    \"Date\": \"18/03/2023\",\n",
    "    \"Time\": \"17:50\"\n",
    "}\n",
    "\n",
    "print(student_dictionary_1)\n",
    "print(temperature_dictionary_2)\n"
   ]
  },
  {
   "cell_type": "code",
   "execution_count": 44,
   "id": "21c75e77-bddf-4726-9c9e-752ad6276043",
   "metadata": {},
   "outputs": [
    {
     "name": "stdout",
     "output_type": "stream",
     "text": [
      "{'City': 'Delhi', 'Temparature': 32.6, 'Date': '18/03/2023'}\n"
     ]
    }
   ],
   "source": [
    "# Update city to Delhi\n",
    "\n",
    "temperature_dictionary_2[\"City\"] = \"Delhi\"\n",
    "\n",
    "print(temperature_dictionary_2)"
   ]
  },
  {
   "cell_type": "code",
   "execution_count": 43,
   "id": "1f7c5ed3-cf9d-46fc-a65b-5ebf695ebd78",
   "metadata": {},
   "outputs": [
    {
     "ename": "KeyError",
     "evalue": "'Time'",
     "output_type": "error",
     "traceback": [
      "\u001b[0;31m---------------------------------------------------------------------------\u001b[0m",
      "\u001b[0;31mKeyError\u001b[0m                                  Traceback (most recent call last)",
      "Input \u001b[0;32mIn [43]\u001b[0m, in \u001b[0;36m<cell line: 3>\u001b[0;34m()\u001b[0m\n\u001b[1;32m      1\u001b[0m \u001b[38;5;66;03m# remove time from temperature_dictionary_2\u001b[39;00m\n\u001b[0;32m----> 3\u001b[0m \u001b[43mtemperature_dictionary_2\u001b[49m\u001b[38;5;241;43m.\u001b[39;49m\u001b[43mpop\u001b[49m\u001b[43m(\u001b[49m\u001b[38;5;124;43m\"\u001b[39;49m\u001b[38;5;124;43mTime\u001b[39;49m\u001b[38;5;124;43m\"\u001b[39;49m\u001b[43m)\u001b[49m\n\u001b[1;32m      5\u001b[0m \u001b[38;5;28mprint\u001b[39m(temperature_dictionary_2)\n",
      "\u001b[0;31mKeyError\u001b[0m: 'Time'"
     ]
    }
   ],
   "source": [
    "# remove time from temperature_dictionary_2\n",
    "\n",
    "temperature_dictionary_2.pop(\"Time\")\n",
    "\n",
    "print(temperature_dictionary_2)"
   ]
  },
  {
   "cell_type": "code",
   "execution_count": null,
   "id": "bb0ad75c-ac2a-43ab-9ff6-e568fffb7803",
   "metadata": {},
   "outputs": [],
   "source": []
  }
 ],
 "metadata": {
  "kernelspec": {
   "display_name": "anaconda-2022.05-py39",
   "language": "python",
   "name": "conda-env-anaconda-2022.05-py39-py"
  },
  "language_info": {
   "codemirror_mode": {
    "name": "ipython",
    "version": 3
   },
   "file_extension": ".py",
   "mimetype": "text/x-python",
   "name": "python",
   "nbconvert_exporter": "python",
   "pygments_lexer": "ipython3",
   "version": "3.9.12"
  }
 },
 "nbformat": 4,
 "nbformat_minor": 5
}
